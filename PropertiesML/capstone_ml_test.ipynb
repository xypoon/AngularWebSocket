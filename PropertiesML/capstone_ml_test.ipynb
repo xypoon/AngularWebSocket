{
  "nbformat": 4,
  "nbformat_minor": 0,
  "metadata": {
    "colab": {
      "provenance": []
    },
    "kernelspec": {
      "name": "python3",
      "display_name": "Python 3"
    },
    "language_info": {
      "name": "python"
    }
  },
  "cells": [
    {
      "cell_type": "markdown",
      "source": [
        "# Import Libraries"
      ],
      "metadata": {
        "id": "-GochT2fDEGw"
      }
    },
    {
      "cell_type": "code",
      "execution_count": 2,
      "metadata": {
        "colab": {
          "base_uri": "https://localhost:8080/"
        },
        "id": "qkMKZiBLCbXz",
        "outputId": "956ad4d6-6922-4145-fa5c-22a7d83782d9"
      },
      "outputs": [
        {
          "output_type": "stream",
          "name": "stdout",
          "text": [
            "2.17.1\n"
          ]
        }
      ],
      "source": [
        "import tensorflow as tf\n",
        "\n",
        "from tensorflow import keras\n",
        "from tensorflow.keras import layers\n",
        "\n",
        "print(tf.__version__)\n",
        "\n",
        "import matplotlib.pyplot as plt\n",
        "import numpy as np\n",
        "import pandas as pd\n",
        "import seaborn as sns\n",
        "import xgboost as xgb"
      ]
    },
    {
      "cell_type": "markdown",
      "source": [
        "# Import Data"
      ],
      "metadata": {
        "id": "REG3coWaDLc8"
      }
    },
    {
      "cell_type": "code",
      "source": [
        "# Read the headers\n",
        "with open('/content/CommercialTransactionOffice20240913093331.csv', 'r') as f:\n",
        "    headers = f.readline().strip().split(',')\n",
        "\n",
        "# Read the data ignoring row 1 headers\n",
        "\n",
        "data = pd.read_csv('/content/CommercialTransactionOffice20240913093331.csv', header=None, skiprows=1)\n",
        "data2 = pd.read_csv('/content/CommercialTransactionRetail20240913093404.csv', header=None, skiprows=1)\n",
        "data3 = pd.read_csv('/content/CommercialTransactionShop20240913093311.csv', header=None, skiprows=1)\n",
        "\n",
        "# Combine data\n",
        "data = pd.concat([data, data2, data3], axis=0)\n",
        "data.columns = headers\n",
        "\n",
        "print(headers)\n",
        "print(data.head())\n",
        "\n",
        "# count number of rows of data\n",
        "print(\"Rows of imported data: \" , len(data))"
      ],
      "metadata": {
        "colab": {
          "base_uri": "https://localhost:8080/"
        },
        "id": "iDJqqS2FDK1G",
        "outputId": "a211a4d5-1e01-4235-e17a-94470f82d1f9"
      },
      "execution_count": 22,
      "outputs": [
        {
          "output_type": "stream",
          "name": "stdout",
          "text": [
            "['Project Name', 'Street Name', 'Property Type', 'Transacted Price ($)', 'Area (SQFT)', 'Unit Price ($ PSF)', 'Sale Date', 'Type of Area', 'Area (SQM)', 'Unit Price ($ PSM)', 'Tenure', 'Postal District', 'Floor Level']\n",
            "                Project Name       Street Name Property Type  \\\n",
            "0              TONG BUILDING      ORCHARD ROAD        Office   \n",
            "1  ORIENTAL VENTURE BUILDING      GEYLANG ROAD        Office   \n",
            "2               WOODS SQUARE  WOODLANDS SQUARE        Office   \n",
            "3               WOODS SQUARE  WOODLANDS SQUARE        Office   \n",
            "4                  HAVELOCK2     HAVELOCK ROAD        Office   \n",
            "\n",
            "  Transacted Price ($) Area (SQFT) Unit Price ($ PSF) Sale Date Type of Area  \\\n",
            "0           31,330,000    6,867.43              4,562    Sep-24       Strata   \n",
            "1            1,480,000    1,097.93              1,348    Aug-24       Strata   \n",
            "2            1,975,490      947.23              2,086    Aug-24       Strata   \n",
            "3            1,163,581      559.73              2,079    Aug-24       Strata   \n",
            "4            1,500,000      721.19              2,080    Aug-24       Strata   \n",
            "\n",
            "  Area (SQM) Unit Price ($ PSM)                             Tenure  \\\n",
            "0        638             49,107                           Freehold   \n",
            "1        102             14,510                           Freehold   \n",
            "2         88             22,449  99 yrs lease commencing from 2014   \n",
            "3         52             22,377  99 yrs lease commencing from 2014   \n",
            "4         67             22,388  99 yrs lease commencing from 1983   \n",
            "\n",
            "   Postal District Floor Level  \n",
            "0                9    06 to 10  \n",
            "1               14    01 to 05  \n",
            "2               25    06 to 10  \n",
            "3               25    06 to 10  \n",
            "4                1    01 to 05  \n",
            "Rows of imported data:  3569\n"
          ]
        }
      ]
    },
    {
      "cell_type": "markdown",
      "source": [
        "# Clean Data"
      ],
      "metadata": {
        "id": "2tF_TOXeE3A7"
      }
    },
    {
      "cell_type": "code",
      "source": [
        "# Delete Empty rows\n",
        "data.dropna(how='all', inplace=True)\n",
        "\n",
        "# convert string to float\n",
        "data['Transacted Price ($)'] = data['Transacted Price ($)'].str.replace(',', '')\n",
        "data['Transacted Price ($)'] = data['Transacted Price ($)'].astype(float)\n",
        "\n",
        "data['Area (SQFT)'] = data['Area (SQFT)'].str.replace(',', '')\n",
        "data['Area (SQFT)'] = data['Area (SQFT)'].astype(float)\n",
        "\n",
        "data['Unit Price ($ PSF)'] = data['Unit Price ($ PSF)'].str.replace(',', '')\n",
        "data['Unit Price ($ PSF)'] = data['Unit Price ($ PSF)'].astype(float)\n",
        "\n",
        "data['Area (SQM)'] = data['Area (SQM)'].str.replace(',', '')\n",
        "data['Area (SQM)'] = data['Area (SQM)'].astype(float)\n",
        "\n",
        "data['Unit Price ($ PSM)'] = data['Unit Price ($ PSM)'].str.replace(',', '')\n",
        "data['Unit Price ($ PSM)'] = data['Unit Price ($ PSM)'].astype(float)\n",
        "\n",
        "# Print datatype\n",
        "print(data.dtypes)"
      ],
      "metadata": {
        "colab": {
          "base_uri": "https://localhost:8080/"
        },
        "id": "zQkes_Y3E5Eg",
        "outputId": "6e767b4b-5f7f-4561-cd6d-67b369640ba1"
      },
      "execution_count": 23,
      "outputs": [
        {
          "output_type": "stream",
          "name": "stdout",
          "text": [
            "Project Name             object\n",
            "Street Name              object\n",
            "Property Type            object\n",
            "Transacted Price ($)    float64\n",
            "Area (SQFT)             float64\n",
            "Unit Price ($ PSF)      float64\n",
            "Sale Date                object\n",
            "Type of Area             object\n",
            "Area (SQM)              float64\n",
            "Unit Price ($ PSM)      float64\n",
            "Tenure                   object\n",
            "Postal District           int64\n",
            "Floor Level              object\n",
            "dtype: object\n"
          ]
        }
      ]
    },
    {
      "cell_type": "code",
      "source": [
        "# print distribution of transacteed price\n",
        "sns.histplot(data['Transacted Price ($)'])\n",
        "plt.show()"
      ],
      "metadata": {
        "colab": {
          "base_uri": "https://localhost:8080/",
          "height": 449
        },
        "id": "zaYmo67-RQGI",
        "outputId": "92d56008-795c-4a1a-c448-5203f1a49e1f"
      },
      "execution_count": 24,
      "outputs": [
        {
          "output_type": "display_data",
          "data": {
            "text/plain": [
              "<Figure size 640x480 with 1 Axes>"
            ],
            "image/png": "[encoded data removed]"
          },
          "metadata": {}
        }
      ]
    },
    {
      "cell_type": "markdown",
      "source": [
        "# Prepare Data and Split into Train and Test\n",
        "\n"
      ],
      "metadata": {
        "id": "CRd-8cswJuiI"
      }
    },
    {
      "cell_type": "code",
      "source": [
        "# prompt: Create linear regression model for predicting transacted price without the unit price columns and for categorical data, use one hot encoding\n",
        "\n",
        "# Select relevant features\n",
        "features = ['Area (SQFT)', 'Area (SQM)', 'Property Type', 'Street Name', 'Tenure', 'Type of Area', 'Postal District', \"Floor Level\"]\n",
        "X = data[features]\n",
        "y = data['Transacted Price ($)']\n",
        "\n",
        "# test some modification !!!\n",
        "# Example of log transforming Area and Price\n",
        "X['Area (SQM)'] = np.log1p(X['Area (SQM)'])\n",
        "X['Area (SQFT)'] = np.log1p(X['Area (SQFT)'])\n",
        "y = np.log1p(y)  # if your target (price) is also skewed\n",
        "\n",
        "from sklearn.preprocessing import OneHotEncoder\n",
        "import pandas as pd\n",
        "\n",
        "# One-Hot Encoding Example (for small number of categories)\n",
        "X_encoded = pd.get_dummies(X, columns=['Property Type', 'Street Name', 'Tenure', 'Type of Area', 'Postal District', \"Floor Level\"])\n",
        "\n",
        "from sklearn.model_selection import train_test_split\n",
        "\n",
        "# Assuming 'y' is your target variable (e.g., price)\n",
        "X_train, X_test, y_train, y_test = train_test_split(X_encoded, y, test_size=0.3, random_state=42)\n",
        "\n",
        "# export my X_encoded headers to .dat\n",
        "headers = X_encoded.columns\n",
        "np.savetxt('headers.dat', headers, fmt='%s')"
      ],
      "metadata": {
        "colab": {
          "base_uri": "https://localhost:8080/"
        },
        "id": "f7FpvRYUJwzo",
        "outputId": "ab5c7d31-c8a7-4744-df67-1abca43b5cd4"
      },
      "execution_count": 32,
      "outputs": [
        {
          "output_type": "stream",
          "name": "stderr",
          "text": [
            "<ipython-input-32-013379aab847>:10: SettingWithCopyWarning: \n",
            "A value is trying to be set on a copy of a slice from a DataFrame.\n",
            "Try using .loc[row_indexer,col_indexer] = value instead\n",
            "\n",
            "See the caveats in the documentation: https://pandas.pydata.org/pandas-docs/stable/user_guide/indexing.html#returning-a-view-versus-a-copy\n",
            "  X['Area (SQM)'] = np.log1p(X['Area (SQM)'])\n",
            "<ipython-input-32-013379aab847>:11: SettingWithCopyWarning: \n",
            "A value is trying to be set on a copy of a slice from a DataFrame.\n",
            "Try using .loc[row_indexer,col_indexer] = value instead\n",
            "\n",
            "See the caveats in the documentation: https://pandas.pydata.org/pandas-docs/stable/user_guide/indexing.html#returning-a-view-versus-a-copy\n",
            "  X['Area (SQFT)'] = np.log1p(X['Area (SQFT)'])\n"
          ]
        }
      ]
    },
    {
      "cell_type": "markdown",
      "source": [
        "# Define XGBoost Model"
      ],
      "metadata": {
        "id": "4Qq41_ozPvQU"
      }
    },
    {
      "cell_type": "code",
      "source": [
        "import xgboost as xgb\n",
        "\n",
        "# Convert data to DMatrix (optional but recommended for efficiency)\n",
        "dtrain = xgb.DMatrix(X_train, label=y_train)\n",
        "dtest = xgb.DMatrix(X_test, label=y_test)\n",
        "\n",
        "# Define the XGBoost model\n",
        "model = xgb.XGBRegressor(\n",
        "    objective='reg:squarederror',  # Use appropriate objective for regression\n",
        "    max_depth=6,  # Depth of each tree\n",
        "    learning_rate=0.1,  # Step size shrinkage\n",
        "    n_estimators=100  # Number of boosting rounds\n",
        ")\n",
        "\n",
        "# Train the model\n",
        "model.fit(X_train, y_train)\n",
        "\n",
        "\n",
        "from sklearn.metrics import mean_squared_error, r2_score\n",
        "\n",
        "# Predict on test data\n",
        "y_pred = model.predict(X_test)\n",
        "\n",
        "# Evaluate\n",
        "mse = mean_squared_error(y_test, y_pred)\n",
        "r2 = r2_score(y_test, y_pred)\n",
        "\n",
        "print(f'Mean Squared Error: {mse}')\n",
        "print(f'R-squared: {r2}')\n",
        "\n",
        "import matplotlib.pyplot as plt\n",
        "\n",
        "# Plot actual vs. predicted values\n",
        "plt.scatter(y_test, y_pred)\n",
        "plt.xlabel('Actual Values')\n",
        "plt.ylabel('Predicted Values')\n",
        "plt.title('Actual vs. Predicted Values')\n",
        "plt.show()"
      ],
      "metadata": {
        "colab": {
          "base_uri": "https://localhost:8080/",
          "height": 507
        },
        "id": "SAqiK7r_PxmU",
        "outputId": "c9841e33-2206-4109-c7d1-6a53b35f206e"
      },
      "execution_count": null,
      "outputs": [
        {
          "output_type": "stream",
          "name": "stdout",
          "text": [
            "Mean Squared Error: 0.11477762091704319\n",
            "R-squared: 0.9242185434546155\n"
          ]
        },
        {
          "output_type": "display_data",
          "data": {
            "text/plain": [
              "<Figure size 640x480 with 1 Axes>"
            ],
            "image/png": "[encoded data removed]"
          },
          "metadata": {}
        }
      ]
    },
    {
      "cell_type": "code",
      "source": [
        "# test_data = ['CONCORDE SHOPPING CENTRE','OUTRAM ROAD','Office','688000', '376.74', '1.826', 'Dec-24','Strata', '35.0', '19657', '99 yrs lease commencing from 1980', '03', '01 to 05']\n",
        "test_data = ['THOMSON V TWO','SIN MING ROAD','Retail','300000.0', '53.82','5.574', 'Jul-21','Strata','5.0', '60000.0', 'Freehold', '20', '01 to 05']\n",
        "# test_data = ['REGENCY SUITES','KIM TIAN ROAD','Office','2120000','1033.34','2.052','Nov-24','Strata','96','22083','Freehold','03','06 to 10']\n",
        "\n",
        "# Select relevant features\n",
        "features = ['Area (SQFT)', 'Area (SQM)', 'Property Type', 'Street Name', 'Tenure', 'Type of Area', 'Postal District', \"Floor Level\"]\n",
        "headers = ['Project Name', 'Street Name', 'Property Type', 'Transacted Price ($)', 'Area (SQFT)', 'Unit Price ($ PSF)', 'Sale Date', 'Type of Area', 'Area (SQM)', 'Unit Price ($ PSM)', 'Tenure', 'Postal District', 'Floor Level']\n",
        "\n",
        "# insert data into df with headers\n",
        "test_data = pd.DataFrame([test_data], columns=headers)\n",
        "\n",
        "# Consolidate cleaning steps for columns with potential commas\n",
        "for col in ['Transacted Price ($)', 'Area (SQFT)', 'Unit Price ($ PSF)', 'Area (SQM)', 'Unit Price ($ PSM)']:\n",
        "    test_data[col] = test_data[col].str.replace(',', '').astype(float)\n",
        "\n",
        "\n",
        "# Print datatype\n",
        "print(test_data.dtypes)\n",
        "\n",
        "# set x and y\n",
        "X_test_data = test_data[features]\n",
        "y_test_data = test_data['Transacted Price ($)']\n",
        "\n",
        "# transform data\n",
        "X_test_data.loc[:, 'Area (SQM)'] = np.log1p(X_test_data['Area (SQM)'])\n",
        "X_test_data.loc[:, 'Area (SQFT)'] = np.log1p(X_test_data['Area (SQFT)'])\n",
        "\n",
        "# One-Hot Encoding Example (for small number of categories)\n",
        "X_test_data_encoded = pd.get_dummies(X_test_data, columns=['Property Type', 'Street Name', 'Tenure', 'Type of Area', 'Postal District', \"Floor Level\"])\n",
        "\n",
        "#read One-hot encoded headers\n",
        "with open('/content/headers.dat', 'r') as f:\n",
        "    test_headers = f.read().splitlines()\n",
        "\n",
        "# Align columns of X_test_data_encoded with One-hot encoded headers\n",
        "X_test_data_encoded = X_test_data_encoded.reindex(columns = test_headers, fill_value=0)\n",
        "\n",
        "# Load Model\n",
        "model = xgb.Booster()\n",
        "model.load_model('0001.model')\n",
        "test_data_dmatrix = xgb.DMatrix(X_test_data_encoded)\n",
        "predicted_price = model.predict(test_data_dmatrix)\n",
        "\n",
        "# revert np.log1p\n",
        "predicted_price = np.expm1(predicted_price)\n",
        "print(\"Predicted: \", predicted_price[0])\n",
        "print(\"Actual: \", y_test_data[0])"
      ],
      "metadata": {
        "colab": {
          "base_uri": "https://localhost:8080/"
        },
        "id": "bDRiMwblSo6L",
        "outputId": "024572f6-4610-44f9-9e36-c2d943a8f494"
      },
      "execution_count": 12,
      "outputs": [
        {
          "output_type": "stream",
          "name": "stdout",
          "text": [
            "Project Name             object\n",
            "Street Name              object\n",
            "Property Type            object\n",
            "Transacted Price ($)    float64\n",
            "Area (SQFT)             float64\n",
            "Unit Price ($ PSF)      float64\n",
            "Sale Date                object\n",
            "Type of Area             object\n",
            "Area (SQM)              float64\n",
            "Unit Price ($ PSM)      float64\n",
            "Tenure                   object\n",
            "Postal District          object\n",
            "Floor Level              object\n",
            "dtype: object\n",
            "Predicted:  277854.06\n",
            "Actual:  300000.0\n"
          ]
        }
      ]
    },
    {
      "cell_type": "code",
      "source": [
        "# Save the model\n",
        "# model.save_model('0001.model')\n",
        "\n",
        "# Load the model\n",
        "model = xgb.Booster()\n",
        "model.load_model('0001.model')\n",
        "\n",
        "# Predict on test data\n",
        "y_pred = model.predict(test_data_dmatrix)\n",
        "\n",
        "# revert y_pred\n",
        "y_pred = np.expm1(y_pred)\n",
        "\n",
        "#print original and pred\n",
        "print(\"Predicted: \", y_pred[0])\n",
        "print(\"Actual: \", y_test_data[0])\n",
        "print(\"Difference: \", abs(y_pred[0] - y_test_data[0]))"
      ],
      "metadata": {
        "colab": {
          "base_uri": "https://localhost:8080/"
        },
        "id": "x3Glk-79dt6k",
        "outputId": "1f730150-6d2b-44aa-be3e-f1b93b6dff31"
      },
      "execution_count": 9,
      "outputs": [
        {
          "output_type": "stream",
          "name": "stdout",
          "text": [
            "Predicted:  2031106.4\n",
            "Actual:  2120000.0\n",
            "Difference:  88893.625\n"
          ]
        }
      ]
    }
  ]
}